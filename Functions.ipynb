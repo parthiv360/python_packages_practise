{
 "cells": [
  {
   "cell_type": "code",
   "execution_count": 1,
   "id": "55a59ff3",
   "metadata": {},
   "outputs": [],
   "source": [
    "def even_odd(num):\n",
    "    if(num%2==0):\n",
    "        print(\"Even\")\n",
    "    else:\n",
    "        pront(\"Odd\")"
   ]
  },
  {
   "cell_type": "code",
   "execution_count": 2,
   "id": "13af05dd",
   "metadata": {},
   "outputs": [
    {
     "name": "stdout",
     "output_type": "stream",
     "text": [
      "Even\n"
     ]
    }
   ],
   "source": [
    "even_odd(24)"
   ]
  },
  {
   "cell_type": "code",
   "execution_count": 3,
   "id": "be5b52cb",
   "metadata": {},
   "outputs": [],
   "source": [
    "def add(num1,num2):\n",
    "    return num1+num2\n"
   ]
  },
  {
   "cell_type": "code",
   "execution_count": 4,
   "id": "19eae439",
   "metadata": {},
   "outputs": [],
   "source": [
    "val= add(24,48)"
   ]
  },
  {
   "cell_type": "code",
   "execution_count": 5,
   "id": "89c41662",
   "metadata": {},
   "outputs": [
    {
     "data": {
      "text/plain": [
       "72"
      ]
     },
     "execution_count": 5,
     "metadata": {},
     "output_type": "execute_result"
    }
   ],
   "source": [
    "val"
   ]
  },
  {
   "cell_type": "code",
   "execution_count": 8,
   "id": "219a5a3c",
   "metadata": {},
   "outputs": [],
   "source": [
    "def hello(name,age=19):\n",
    "    print(\"My name is {} and my age is {}\".format(name,age))\n",
    "    \n",
    "# here name is positional argument and age is keyword argument"
   ]
  },
  {
   "cell_type": "code",
   "execution_count": 7,
   "id": "06a78898",
   "metadata": {},
   "outputs": [
    {
     "name": "stdout",
     "output_type": "stream",
     "text": [
      "My name is parthiv and my age is 19\n"
     ]
    }
   ],
   "source": [
    "hello(\"parthiv\")"
   ]
  },
  {
   "cell_type": "code",
   "execution_count": 9,
   "id": "821be8f4",
   "metadata": {},
   "outputs": [],
   "source": [
    "def hey(*args,**kwargs):\n",
    "    print(args)\n",
    "    print(kwargs)"
   ]
  },
  {
   "cell_type": "code",
   "execution_count": 10,
   "id": "a0efbad9",
   "metadata": {},
   "outputs": [
    {
     "name": "stdout",
     "output_type": "stream",
     "text": [
      "('Parthiv', 'Sarkar')\n",
      "{'age': 19, 'dob': 2001}\n"
     ]
    }
   ],
   "source": [
    "hey(\"Parthiv\",\"Sarkar\",age=19,dob=2001)"
   ]
  },
  {
   "cell_type": "code",
   "execution_count": 11,
   "id": "12ab903c",
   "metadata": {},
   "outputs": [],
   "source": [
    "lst=[1,2,3,4,5,6,7,8,9,10,12,13,14,15]"
   ]
  },
  {
   "cell_type": "code",
   "execution_count": 13,
   "id": "64585a49",
   "metadata": {},
   "outputs": [],
   "source": [
    "def evenoddsum(lst):\n",
    "    even_sum=0\n",
    "    odd_sum=0\n",
    "    for i in lst:\n",
    "        if i%2==0:\n",
    "            even_sum=even_sum+i\n",
    "        else:\n",
    "            odd_sum=odd_sum+i\n",
    "    return even_sum,odd_sum"
   ]
  },
  {
   "cell_type": "code",
   "execution_count": 14,
   "id": "706593da",
   "metadata": {},
   "outputs": [
    {
     "data": {
      "text/plain": [
       "(56, 53)"
      ]
     },
     "execution_count": 14,
     "metadata": {},
     "output_type": "execute_result"
    }
   ],
   "source": [
    "evenoddsum(lst)"
   ]
  },
  {
   "cell_type": "code",
   "execution_count": 15,
   "id": "b1d0a835",
   "metadata": {},
   "outputs": [],
   "source": [
    "# lambda function"
   ]
  },
  {
   "cell_type": "code",
   "execution_count": 16,
   "id": "9d4c6f22",
   "metadata": {},
   "outputs": [],
   "source": [
    "def add(a,b):\n",
    "    return a+b"
   ]
  },
  {
   "cell_type": "code",
   "execution_count": 17,
   "id": "af250ef2",
   "metadata": {},
   "outputs": [
    {
     "data": {
      "text/plain": [
       "9"
      ]
     },
     "execution_count": 17,
     "metadata": {},
     "output_type": "execute_result"
    }
   ],
   "source": [
    "add(4,5)"
   ]
  },
  {
   "cell_type": "code",
   "execution_count": 18,
   "id": "9602c8bb",
   "metadata": {},
   "outputs": [],
   "source": [
    "addition = lambda a,b:a+b"
   ]
  },
  {
   "cell_type": "code",
   "execution_count": 19,
   "id": "85dfc9d1",
   "metadata": {},
   "outputs": [
    {
     "data": {
      "text/plain": [
       "25"
      ]
     },
     "execution_count": 19,
     "metadata": {},
     "output_type": "execute_result"
    }
   ],
   "source": [
    "addition(12,13)"
   ]
  },
  {
   "cell_type": "code",
   "execution_count": 20,
   "id": "8e8a7835",
   "metadata": {},
   "outputs": [],
   "source": [
    "even= lambda a:a%2==0"
   ]
  },
  {
   "cell_type": "code",
   "execution_count": 21,
   "id": "aca7d59a",
   "metadata": {},
   "outputs": [
    {
     "data": {
      "text/plain": [
       "True"
      ]
     },
     "execution_count": 21,
     "metadata": {},
     "output_type": "execute_result"
    }
   ],
   "source": [
    "even(2)"
   ]
  },
  {
   "cell_type": "code",
   "execution_count": 24,
   "id": "ef7460e9",
   "metadata": {},
   "outputs": [],
   "source": [
    "add1= lambda x,y,z:x+y+z"
   ]
  },
  {
   "cell_type": "code",
   "execution_count": 25,
   "id": "937c3bce",
   "metadata": {},
   "outputs": [
    {
     "data": {
      "text/plain": [
       "18"
      ]
     },
     "execution_count": 25,
     "metadata": {},
     "output_type": "execute_result"
    }
   ],
   "source": [
    "add1(5,6,7)"
   ]
  },
  {
   "cell_type": "code",
   "execution_count": null,
   "id": "06799771",
   "metadata": {},
   "outputs": [],
   "source": []
  }
 ],
 "metadata": {
  "kernelspec": {
   "display_name": "Python 3",
   "language": "python",
   "name": "python3"
  },
  "language_info": {
   "codemirror_mode": {
    "name": "ipython",
    "version": 3
   },
   "file_extension": ".py",
   "mimetype": "text/x-python",
   "name": "python",
   "nbconvert_exporter": "python",
   "pygments_lexer": "ipython3",
   "version": "3.8.8"
  }
 },
 "nbformat": 4,
 "nbformat_minor": 5
}
