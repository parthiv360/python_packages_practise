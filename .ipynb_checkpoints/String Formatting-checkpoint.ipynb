{
 "cells": [
  {
   "cell_type": "code",
   "execution_count": 1,
   "id": "9893a175",
   "metadata": {},
   "outputs": [
    {
     "name": "stdout",
     "output_type": "stream",
     "text": [
      "Hello Everyone\n"
     ]
    }
   ],
   "source": [
    "print(\"Hello Everyone\")"
   ]
  },
  {
   "cell_type": "code",
   "execution_count": 5,
   "id": "2d60fc0f",
   "metadata": {},
   "outputs": [],
   "source": [
    "def greet(name):\n",
    "    return \"hello {}...\".format(name)"
   ]
  },
  {
   "cell_type": "code",
   "execution_count": 6,
   "id": "fc0dabce",
   "metadata": {},
   "outputs": [
    {
     "data": {
      "text/plain": [
       "'hello parthiv...'"
      ]
     },
     "execution_count": 6,
     "metadata": {},
     "output_type": "execute_result"
    }
   ],
   "source": [
    "greet(\"parthiv\")"
   ]
  },
  {
   "cell_type": "code",
   "execution_count": 11,
   "id": "84dc653f",
   "metadata": {},
   "outputs": [],
   "source": [
    "def welcome(name,age):\n",
    "    return \"Welcome {} {}\".format(name,age)"
   ]
  },
  {
   "cell_type": "code",
   "execution_count": 12,
   "id": "4b26fed7",
   "metadata": {},
   "outputs": [
    {
     "data": {
      "text/plain": [
       "'Welcome roop 19'"
      ]
     },
     "execution_count": 12,
     "metadata": {},
     "output_type": "execute_result"
    }
   ],
   "source": [
    "welcome(\"roop\",19)"
   ]
  },
  {
   "cell_type": "code",
   "execution_count": 13,
   "id": "af9b5f91",
   "metadata": {},
   "outputs": [],
   "source": [
    "def welcome(name,age):\n",
    "    return \"Welcome {age} {name}\".format(age=age,name=name)"
   ]
  },
  {
   "cell_type": "code",
   "execution_count": 14,
   "id": "299c58b4",
   "metadata": {},
   "outputs": [
    {
     "data": {
      "text/plain": [
       "'Welcome 20 a'"
      ]
     },
     "execution_count": 14,
     "metadata": {},
     "output_type": "execute_result"
    }
   ],
   "source": [
    "welcome('a',20)"
   ]
  },
  {
   "cell_type": "code",
   "execution_count": 43,
   "id": "9285b64c",
   "metadata": {},
   "outputs": [],
   "source": [
    "# Python list iterables and iterators\n",
    "# user iter function to convert to iterator"
   ]
  },
  {
   "cell_type": "code",
   "execution_count": 16,
   "id": "d6c87421",
   "metadata": {},
   "outputs": [],
   "source": [
    "lst=[1,2,3,4]"
   ]
  },
  {
   "cell_type": "code",
   "execution_count": 17,
   "id": "99872aa0",
   "metadata": {},
   "outputs": [
    {
     "name": "stdout",
     "output_type": "stream",
     "text": [
      "1\n",
      "2\n",
      "3\n",
      "4\n"
     ]
    }
   ],
   "source": [
    "for i in lst:\n",
    "    print(i)"
   ]
  },
  {
   "cell_type": "code",
   "execution_count": 39,
   "id": "76902c6f",
   "metadata": {},
   "outputs": [],
   "source": [
    "lst2=iter(lst)"
   ]
  },
  {
   "cell_type": "code",
   "execution_count": 40,
   "id": "7330e73b",
   "metadata": {},
   "outputs": [
    {
     "data": {
      "text/plain": [
       "<list_iterator at 0x2a9d46e4a30>"
      ]
     },
     "execution_count": 40,
     "metadata": {},
     "output_type": "execute_result"
    }
   ],
   "source": [
    "lst2\n"
   ]
  },
  {
   "cell_type": "code",
   "execution_count": 41,
   "id": "dd4230d9",
   "metadata": {},
   "outputs": [
    {
     "data": {
      "text/plain": [
       "1"
      ]
     },
     "execution_count": 41,
     "metadata": {},
     "output_type": "execute_result"
    }
   ],
   "source": [
    "next(lst2)"
   ]
  },
  {
   "cell_type": "code",
   "execution_count": 42,
   "id": "84619d1f",
   "metadata": {},
   "outputs": [
    {
     "name": "stdout",
     "output_type": "stream",
     "text": [
      "2\n",
      "3\n",
      "4\n"
     ]
    }
   ],
   "source": [
    "for i in lst2:\n",
    "    print(i)"
   ]
  },
  {
   "cell_type": "code",
   "execution_count": null,
   "id": "014e5ef9",
   "metadata": {},
   "outputs": [],
   "source": []
  }
 ],
 "metadata": {
  "kernelspec": {
   "display_name": "Python 3",
   "language": "python",
   "name": "python3"
  },
  "language_info": {
   "codemirror_mode": {
    "name": "ipython",
    "version": 3
   },
   "file_extension": ".py",
   "mimetype": "text/x-python",
   "name": "python",
   "nbconvert_exporter": "python",
   "pygments_lexer": "ipython3",
   "version": "3.8.8"
  }
 },
 "nbformat": 4,
 "nbformat_minor": 5
}
